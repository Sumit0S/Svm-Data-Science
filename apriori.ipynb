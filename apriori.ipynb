{
 "cells": [
  {
   "cell_type": "code",
   "execution_count": 27,
   "id": "6f5a7ffa",
   "metadata": {},
   "outputs": [],
   "source": [
    "import pandas as pd\n",
    "data = pd.read_csv(\"/Users/sumit/Downloads/Item_dataset.csv\",sep=\",\")"
   ]
  },
  {
   "cell_type": "code",
   "execution_count": 28,
   "id": "ac3e4f96",
   "metadata": {},
   "outputs": [
    {
     "name": "stdout",
     "output_type": "stream",
     "text": [
      "    BISCUIT  BOURNVITA  BREAD  COCK  COFFEE  CORNFLAKES  JAM  MAGGI  MILK  \\\n",
      "0         1          0      1     0       0           1    0      0     1   \n",
      "1         0          1      1     0       0           0    0      0     0   \n",
      "2         0          0      1     0       0           0    1      1     1   \n",
      "3         1          0      0     0       0           0    0      1     0   \n",
      "4         0          1      1     0       0           0    0      0     0   \n",
      "5         0          0      0     0       0           1    0      1     0   \n",
      "6         1          0      1     0       0           0    0      1     0   \n",
      "7         0          0      1     0       0           0    1      1     0   \n",
      "8         0          0      1     0       0           0    0      0     1   \n",
      "9         1          0      0     1       1           1    0      0     0   \n",
      "10        1          0      0     1       1           1    0      0     0   \n",
      "11        0          1      0     0       1           0    0      0     0   \n",
      "12        0          0      1     1       1           0    0      0     0   \n",
      "13        1          0      1     0       0           0    0      0     0   \n",
      "14        0          0      0     0       1           1    0      0     0   \n",
      "15        0          1      1     0       0           0    0      0     0   \n",
      "16        0          0      1     0       1           0    0      0     0   \n",
      "17        0          0      1     0       1           0    0      0     0   \n",
      "18        0          0      0     0       1           1    0      0     1   \n",
      "\n",
      "    SUGER  TEA  \n",
      "0       0    0  \n",
      "1       0    1  \n",
      "2       0    0  \n",
      "3       0    1  \n",
      "4       0    1  \n",
      "5       0    1  \n",
      "6       0    1  \n",
      "7       0    1  \n",
      "8       0    0  \n",
      "9       0    0  \n",
      "10      0    0  \n",
      "11      1    0  \n",
      "12      0    0  \n",
      "13      1    0  \n",
      "14      1    0  \n",
      "15      1    0  \n",
      "16      1    0  \n",
      "17      1    0  \n",
      "18      0    1  \n"
     ]
    }
   ],
   "source": [
    "transactions = [row[0].split(',') for index, row in data.iterrows()]\n",
    "\n",
    "encoder = TransactionEncoder()\n",
    "\n",
    "encoding = encoder.fit_transform(transactions)\n",
    "\n",
    "encoded = pd.DataFrame(encoding, columns=encoder.columns_)\n",
    "\n",
    "print(encoded.astype(int))"
   ]
  },
  {
   "cell_type": "code",
   "execution_count": null,
   "id": "d757db4e",
   "metadata": {},
   "outputs": [],
   "source": []
  },
  {
   "cell_type": "code",
   "execution_count": null,
   "id": "5a1a3be0",
   "metadata": {},
   "outputs": [],
   "source": []
  },
  {
   "cell_type": "code",
   "execution_count": null,
   "id": "713cae7a",
   "metadata": {},
   "outputs": [],
   "source": []
  },
  {
   "cell_type": "code",
   "execution_count": null,
   "id": "661d190c",
   "metadata": {},
   "outputs": [],
   "source": []
  },
  {
   "cell_type": "code",
   "execution_count": 32,
   "id": "6a9ea638",
   "metadata": {},
   "outputs": [
    {
     "name": "stdout",
     "output_type": "stream",
     "text": [
      "Minimum support of 0.20:-\n",
      "\n",
      "     support              itemsets\n",
      "0   0.315789             (BISCUIT)\n",
      "1   0.210526           (BOURNVITA)\n",
      "2   0.631579               (BREAD)\n",
      "3   0.421053              (COFFEE)\n",
      "4   0.315789          (CORNFLAKES)\n",
      "5   0.263158               (MAGGI)\n",
      "6   0.210526                (MILK)\n",
      "7   0.315789               (SUGER)\n",
      "8   0.368421                 (TEA)\n",
      "9   0.210526        (SUGER, BREAD)\n",
      "10  0.210526          (BREAD, TEA)\n",
      "11  0.210526  (COFFEE, CORNFLAKES)\n",
      "12  0.210526       (COFFEE, SUGER)\n",
      "13  0.210526          (MAGGI, TEA)\n"
     ]
    }
   ],
   "source": [
    "from mlxtend.frequent_patterns import apriori, association_rules\n",
    "import pandas as pd\n",
    "\n",
    "frq_items=apriori(encoded,min_support=0.20,use_colnames=True)\n",
    "\n",
    "print(\"Minimum support of 0.20:-\\n\")\n",
    "print(frq_items)"
   ]
  },
  {
   "cell_type": "code",
   "execution_count": 30,
   "id": "73f8b939",
   "metadata": {},
   "outputs": [
    {
     "name": "stdout",
     "output_type": "stream",
     "text": [
      "Confidence of 50%:-\n",
      "\n",
      "    antecedents   consequents  antecedent support  consequent support  \\\n",
      "0     (BISCUIT)       (BREAD)                0.35                0.65   \n",
      "1        (MILK)       (BREAD)                0.25                0.65   \n",
      "2       (SUGER)       (BREAD)                0.30                0.65   \n",
      "3         (TEA)       (BREAD)                0.35                0.65   \n",
      "4      (COFFEE)  (CORNFLAKES)                0.40                0.30   \n",
      "5  (CORNFLAKES)      (COFFEE)                0.30                0.40   \n",
      "6      (COFFEE)       (SUGER)                0.40                0.30   \n",
      "7       (SUGER)      (COFFEE)                0.30                0.40   \n",
      "8       (MAGGI)         (TEA)                0.25                0.35   \n",
      "9         (TEA)       (MAGGI)                0.35                0.25   \n",
      "\n",
      "   support  confidence      lift  leverage  conviction  zhangs_metric  \n",
      "0      0.2    0.571429  0.879121   -0.0275    0.816667      -0.174603  \n",
      "1      0.2    0.800000  1.230769    0.0375    1.750000       0.250000  \n",
      "2      0.2    0.666667  1.025641    0.0050    1.050000       0.035714  \n",
      "3      0.2    0.571429  0.879121   -0.0275    0.816667      -0.174603  \n",
      "4      0.2    0.500000  1.666667    0.0800    1.400000       0.666667  \n",
      "5      0.2    0.666667  1.666667    0.0800    1.800000       0.571429  \n",
      "6      0.2    0.500000  1.666667    0.0800    1.400000       0.666667  \n",
      "7      0.2    0.666667  1.666667    0.0800    1.800000       0.571429  \n",
      "8      0.2    0.800000  2.285714    0.1125    3.250000       0.750000  \n",
      "9      0.2    0.571429  2.285714    0.1125    1.750000       0.865385  \n"
     ]
    }
   ],
   "source": [
    "association_rules_50 = association_rules(frq_items, metric=\"confidence\", min_threshold=0.5)\n",
    "print(\"Confidence of 50%:-\\n\")\n",
    "print(association_rules_50)"
   ]
  },
  {
   "cell_type": "code",
   "execution_count": 31,
   "id": "9b4c6bea",
   "metadata": {},
   "outputs": [
    {
     "name": "stdout",
     "output_type": "stream",
     "text": [
      "Threshold of 0.65:-\n",
      "\n",
      "     antecedents   consequents  antecedent support  consequent support  \\\n",
      "0        (BREAD)     (BISCUIT)                0.65                0.35   \n",
      "1      (BISCUIT)       (BREAD)                0.35                0.65   \n",
      "2         (MILK)       (BREAD)                0.25                0.65   \n",
      "3        (BREAD)        (MILK)                0.65                0.25   \n",
      "4        (SUGER)       (BREAD)                0.30                0.65   \n",
      "5        (BREAD)       (SUGER)                0.65                0.30   \n",
      "6        (BREAD)         (TEA)                0.65                0.35   \n",
      "7          (TEA)       (BREAD)                0.35                0.65   \n",
      "8       (COFFEE)  (CORNFLAKES)                0.40                0.30   \n",
      "9   (CORNFLAKES)      (COFFEE)                0.30                0.40   \n",
      "10      (COFFEE)       (SUGER)                0.40                0.30   \n",
      "11       (SUGER)      (COFFEE)                0.30                0.40   \n",
      "12       (MAGGI)         (TEA)                0.25                0.35   \n",
      "13         (TEA)       (MAGGI)                0.35                0.25   \n",
      "\n",
      "    support  confidence      lift  leverage  conviction  zhangs_metric  \n",
      "0       0.2    0.307692  0.879121   -0.0275    0.938889      -0.282051  \n",
      "1       0.2    0.571429  0.879121   -0.0275    0.816667      -0.174603  \n",
      "2       0.2    0.800000  1.230769    0.0375    1.750000       0.250000  \n",
      "3       0.2    0.307692  1.230769    0.0375    1.083333       0.535714  \n",
      "4       0.2    0.666667  1.025641    0.0050    1.050000       0.035714  \n",
      "5       0.2    0.307692  1.025641    0.0050    1.011111       0.071429  \n",
      "6       0.2    0.307692  0.879121   -0.0275    0.938889      -0.282051  \n",
      "7       0.2    0.571429  0.879121   -0.0275    0.816667      -0.174603  \n",
      "8       0.2    0.500000  1.666667    0.0800    1.400000       0.666667  \n",
      "9       0.2    0.666667  1.666667    0.0800    1.800000       0.571429  \n",
      "10      0.2    0.500000  1.666667    0.0800    1.400000       0.666667  \n",
      "11      0.2    0.666667  1.666667    0.0800    1.800000       0.571429  \n",
      "12      0.2    0.800000  2.285714    0.1125    3.250000       0.750000  \n",
      "13      0.2    0.571429  2.285714    0.1125    1.750000       0.865385  \n"
     ]
    }
   ],
   "source": [
    "association_rules_lift = association_rules(frq_items, metric=\"lift\", min_threshold=0.65)\n",
    "print(\"Threshold of 0.65:-\\n\")\n",
    "print(association_rules_lift)a"
   ]
  },
  {
   "cell_type": "code",
   "execution_count": null,
   "id": "fbdf26dd",
   "metadata": {},
   "outputs": [],
   "source": []
  }
 ],
 "metadata": {
  "kernelspec": {
   "display_name": "Python 3 (ipykernel)",
   "language": "python",
   "name": "python3"
  },
  "language_info": {
   "codemirror_mode": {
    "name": "ipython",
    "version": 3
   },
   "file_extension": ".py",
   "mimetype": "text/x-python",
   "name": "python",
   "nbconvert_exporter": "python",
   "pygments_lexer": "ipython3",
   "version": "3.11.4"
  }
 },
 "nbformat": 4,
 "nbformat_minor": 5
}
